{
 "cells": [
  {
   "cell_type": "markdown",
   "id": "3992057b-7308-44a2-a379-4efcd1bd8747",
   "metadata": {},
   "source": [
    "# X-GENRE classifier - multilingual text genre classifier \n",
    "\n",
    "https://huggingface.co/classla/xlm-roberta-base-multilingual-text-genre-classifier\n",
    "\n",
    "Náš model by měl na základě charakteru textu rozpoznat, zda se jedná o jednu z následující kategorií (charakter jednotlivých kategorií viz odkaz výše). Naše data pocházejí z Wikipedie a každý řádek obsahuje úvodní odstavec o nějaké české či zahraniční osobnosti, očekáváme tedy výstupy modelu v kategorii 'Information/Explanation'.\n",
    "\n",
    "\n",
    "If you use the model, please cite the paper:\n",
    "@article{kuzman2023automatic,\n",
    "  title={Automatic Genre Identification for Robust Enrichment of Massive Text Collections: Investigation of Classification Methods in the Era of Large Language Models},\n",
    "  author={Kuzman, Taja and Mozeti{\\v{c}}, Igor and Ljube{\\v{s}}i{\\'c}, Nikola},\n",
    "  journal={Machine Learning and Knowledge Extraction},\n",
    "  volume={5},\n",
    "  number={3},\n",
    "  pages={1149--1175},\n",
    "  year={2023},\n",
    "  publisher={MDPI}\n",
    "}"
   ]
  },
  {
   "cell_type": "code",
   "execution_count": 2,
   "id": "8cc8a4da-d14b-4aaa-ae3f-3c0755da0542",
   "metadata": {},
   "outputs": [],
   "source": [
    "# nacteni dat\n",
    "from datasets import load_dataset\n",
    "import numpy as np\n",
    "\n",
    "dataset = load_dataset(\"kotlarska2/osobnosti\")"
   ]
  },
  {
   "cell_type": "code",
   "execution_count": 3,
   "id": "ceae0a1a-d798-4e21-adff-aee8117558aa",
   "metadata": {},
   "outputs": [
    {
     "name": "stderr",
     "output_type": "stream",
     "text": [
      "/home/zeus/miniconda3/envs/cloudspace/lib/python3.10/site-packages/simpletransformers/classification/classification_model.py:484: UserWarning: use_multiprocessing automatically disabled as xlmroberta fails when using multiprocessing for feature conversion.\n",
      "  warnings.warn(\n"
     ]
    }
   ],
   "source": [
    "# nacteni modelu\n",
    "from simpletransformers.classification import ClassificationModel\n",
    "model_args= {\n",
    "            \"num_train_epochs\": 15,\n",
    "            \"learning_rate\": 1e-5,\n",
    "            \"max_seq_length\": 512,\n",
    "            \"silent\": True\n",
    "            }\n",
    "model = ClassificationModel(\n",
    "    \"xlmroberta\", \"classla/xlm-roberta-base-multilingual-text-genre-classifier\", use_cuda=True,\n",
    "    args=model_args\n",
    "    \n",
    ")"
   ]
  },
  {
   "cell_type": "code",
   "execution_count": 5,
   "id": "20a3a9ed-3edc-467f-8a0d-05d0388280e3",
   "metadata": {},
   "outputs": [],
   "source": [
    "# vyhodnoceni modelu\n",
    "pred, log = model.predict(dataset['train']['text'])"
   ]
  },
  {
   "cell_type": "code",
   "execution_count": 22,
   "id": "3cb4c2ce-f8fc-4940-9501-41b7c46ee3bd",
   "metadata": {},
   "outputs": [
    {
     "name": "stdout",
     "output_type": "stream",
     "text": [
      "Hodnota Information/Explanation se vyskytla 1953x.\n",
      "Hodnota News se vyskytla 9x.\n",
      "Hodnota Opinion/Argumentation se vyskytla 1x.\n",
      "Hodnota Other se vyskytla 1x.\n",
      "Hodnota Promotion se vyskytla 5x.\n"
     ]
    }
   ],
   "source": [
    "# zastoupeni kategorii v nasich datech\n",
    "pred_char = [model.config.id2label[i] for i in pred]\n",
    "\n",
    "unique_values, counts = np.unique(pred_char, return_counts=True)\n",
    "\n",
    "for value, count in zip(unique_values, counts):\n",
    "    print(f\"Hodnota {value} se vyskytla {count}x.\")\n"
   ]
  },
  {
   "cell_type": "code",
   "execution_count": 23,
   "id": "a66cd9fa-a58e-4a09-9298-070883143e86",
   "metadata": {},
   "outputs": [
    {
     "name": "stdout",
     "output_type": "stream",
     "text": [
      "['2007  mistr světa\\n' 'Další úspěchy\\n' 'LOH 2016 – 26. místo\\n'\n",
      " '2. místo na ME 2017\\n' 'Etapové závody\\n' 'Grand Tours\\n'\n",
      " 'Grand Tours\\n' 'manželka Veronika\\n' 'Etapové závody\\n'\n",
      " 'Etapové závody\\n' 'Elizaveta Zhuk (od 2019 - 2022)\\n'\n",
      " 'LOH 2012 – 15. místo\\n'\n",
      " 'LOH 2008 – 13. místo, 23. místoLOH 2012 – 33. místo, 34. místo, 41. místo\\n'\n",
      " '3. místo – Mistrovství Evropy 2015 v Baku\\n'\n",
      " 'Lenka Prášilová, pod přezdívkou jako Laura Lion, ale vystupuje i pod dalšími jmény, je česká pornoherečka.\\n'\n",
      " 'Eva Šormová\\nNoemi Smolik\\n']\n"
     ]
    }
   ],
   "source": [
    "# texty, ktere byly zarazenem jinam, nez jsme ocekavali\n",
    "texty = dataset['train']['text']\n",
    "\n",
    "# pomocna promenna\n",
    "mask = (np.array(pred_char) != 'Information/Explanation')\n",
    "\n",
    "# vyselektovani spatne zarazenych textu\n",
    "filtered_values = np.array(texty)[mask]\n",
    "\n",
    "print(filtered_values)"
   ]
  },
  {
   "cell_type": "markdown",
   "id": "814826df-72b4-4223-9c2e-dfe6f22c8b66",
   "metadata": {},
   "source": [
    "Ve většině případů jsme dostali očekávanou kategorii 'Information/Explanation', v 16 případech jsme dostali kategorii odlišnou.\n",
    "\n",
    "-> V 15 z nich se jedná o chybu v datech (špatně načtená data při tvorbě datasetu).\n",
    "\n",
    "-> V 1 případě se jedná o chybu modelu.\n",
    "\n",
    "Pro úplnost dodejme, že v předpokladech modelu je vstup textu o délce alespoň 75 slov, přičemž tento požadavek není ve všech našich vstupních textech splněn."
   ]
  }
 ],
 "metadata": {
  "kernelspec": {
   "display_name": "Python 3",
   "language": "python",
   "name": "python3"
  },
  "language_info": {
   "codemirror_mode": {
    "name": "ipython",
    "version": 3
   },
   "file_extension": ".py",
   "mimetype": "text/x-python",
   "name": "python",
   "nbconvert_exporter": "python",
   "pygments_lexer": "ipython3",
   "version": "3.10.10"
  }
 },
 "nbformat": 4,
 "nbformat_minor": 5
}
